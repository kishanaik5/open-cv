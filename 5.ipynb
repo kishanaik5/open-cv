{
 "cells": [
  {
   "cell_type": "code",
   "execution_count": null,
   "id": "bf5c4e8f-16c5-4a6e-8427-b747b1308bd2",
   "metadata": {},
   "outputs": [
    {
     "name": "stdout",
     "output_type": "stream",
     "text": [
      "[[-8.125e-01 -1.375e+00  2.750e+02]\n",
      " [-1.250e-01 -2.750e+00  4.000e+02]\n",
      " [-1.250e-03 -7.500e-03  1.000e+00]]\n"
     ]
    }
   ],
   "source": [
    "import cv2\n",
    "import numpy as np\n",
    "import matplotlib.pyplot as plt\n",
    "image=cv2.imread(\"puppy_dog.jpg\")\n",
    "pts_src=np.array([[100,150],[200,150],[200,300],[100,250]],dtype='float32')\n",
    "pts_dst=np.array([[50,100],[250,100],[200,300],[150,300]],dtype='float32')\n",
    "homography_matrix,status=cv2.findHomography(pts_src,pts_dst)\n",
    "print(homography_matrix)\n",
    "\n",
    "\n",
    "height,width=image.shape[:2]\n",
    "warped_image=cv2.warpPerspective(image,homography_matrix,(width,height))\n",
    "cv2.imshow(\"warped\",warped_image)\n",
    "cv2.imshow('original',image)\n",
    "cv2.waitKey(0)\n",
    "cv2.destoryAllWindows()"
   ]
  }
 ],
 "metadata": {
  "kernelspec": {
   "display_name": "Python 3 (ipykernel)",
   "language": "python",
   "name": "python3"
  },
  "language_info": {
   "codemirror_mode": {
    "name": "ipython",
    "version": 3
   },
   "file_extension": ".py",
   "mimetype": "text/x-python",
   "name": "python",
   "nbconvert_exporter": "python",
   "pygments_lexer": "ipython3",
   "version": "3.10.15"
  }
 },
 "nbformat": 4,
 "nbformat_minor": 5
}
