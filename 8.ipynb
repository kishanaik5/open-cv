{
 "cells": [
  {
   "cell_type": "code",
   "execution_count": null,
   "id": "d7ae781d-1156-44bc-99c7-37072c1ea0ed",
   "metadata": {},
   "outputs": [],
   "source": []
  }
 ],
 "metadata": {
  "kernelspec": {
   "display_name": "",
   "name": ""
  },
  "language_info": {
   "name": ""
  }
 },
 "nbformat": 4,
 "nbformat_minor": 5
}
