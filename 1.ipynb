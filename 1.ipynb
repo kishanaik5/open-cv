{
 "cells": [
  {
   "cell_type": "code",
   "execution_count": null,
   "id": "53883eee-dec5-48b4-a215-7c01e23bb3b2",
   "metadata": {},
   "outputs": [],
   "source": [
    "import cv2\n",
    "\n",
    "image = cv2.imread('puppy_dog.jpg')\n",
    "if image is None:\n",
    "    print(\"Error: Could not load image.\")\n",
    "else:\n",
    "    cv2.imshow('Original Image', image)\n",
    "    gray_image = cv2.cvtColor(image, cv2.COLOR_BGR2GRAY)\n",
    "    cv2.imshow('Gray Scale Image', gray_image)\n",
    "    resized_image = cv2.resize(image, (400, 300))\n",
    "    cv2.imshow('Resized Image', resized_image)\n",
    "    cropped_image = image[50:200, 100:300] # y1:y2, x1:x2\n",
    "    cv2.imshow('Cropped Image', cropped_image)\n",
    "    cv2.imwrite('gray_image.jpg', gray_image)\n",
    "    cv2.waitKey(0)\n",
    "    cv2.destroyAllWindows()"
   ]
  }
 ],
 "metadata": {
  "kernelspec": {
   "display_name": "Python 3 (ipykernel)",
   "language": "python",
   "name": "python3"
  },
  "language_info": {
   "codemirror_mode": {
    "name": "ipython",
    "version": 3
   },
   "file_extension": ".py",
   "mimetype": "text/x-python",
   "name": "python",
   "nbconvert_exporter": "python",
   "pygments_lexer": "ipython3",
   "version": "3.10.15"
  }
 },
 "nbformat": 4,
 "nbformat_minor": 5
}
